{
 "cells": [
  {
   "cell_type": "markdown",
   "metadata": {
    "slideshow": {
     "slide_type": "slide"
    }
   },
   "source": [
    "# De python a sympy"
   ]
  },
  {
   "cell_type": "code",
   "execution_count": 20,
   "metadata": {
    "extensions": {
     "jupyter_dashboards": {
      "version": 1,
      "views": {
       "grid_default": {
        "hidden": true
       },
       "report_default": {}
      }
     }
    },
    "scrolled": true,
    "slideshow": {
     "slide_type": "slide"
    }
   },
   "outputs": [],
   "source": [
    "#-*- coding: utf-8 -*-\n",
    "from IPython.core.interactiveshell import InteractiveShell\n",
    "InteractiveShell.ast_node_interactivity = \"all\"\n",
    "[x**2 for x in range(-10, 11)]"
   ]
  },
  {
   "cell_type": "code",
   "execution_count": 22,
   "metadata": {
    "collapsed": true,
    "extensions": {
     "jupyter_dashboards": {
      "version": 1,
      "views": {
       "grid_default": {
        "hidden": true
       },
       "report_default": {}
      }
     }
    },
    "scrolled": true,
    "slideshow": {
     "slide_type": "skip"
    }
   },
   "outputs": [],
   "source": [
    "from sympy import *\n",
    "import numpy as np\n",
    "init_printing()\n",
    "\n",
    "def separar_campos(expr):\n",
    "    '''Esta función toma un lagrangiano L y sustrae de cada termino la parte \n",
    "    que esta involucrada con los campos'''\n",
    "    lista = [expr.args[i].args_cnc() for i in range(len(expr.args))]\n",
    "    lista_campos = [np.prod(np.array(lista[i][1])) for i in range(0,len(lista))]\n",
    "    lista = lista_campos\n",
    "    for i in range(0,len(lista)):\n",
    "        if lista[i]==1.0:\n",
    "            lista[i]=S(1)\n",
    "    return lista"
   ]
  },
  {
   "cell_type": "markdown",
   "metadata": {
    "extensions": {
     "jupyter_dashboards": {
      "version": 1,
      "views": {
       "grid_default": {
        "col": 0,
        "height": 4,
        "hidden": false,
        "row": 0,
        "width": 4
       },
       "report_default": {}
      }
     }
    },
    "slideshow": {
     "slide_type": "slide"
    }
   },
   "source": [
    "## Ciclos en python\n",
    "Los ciclos en python son de la siguiente forma:"
   ]
  },
  {
   "cell_type": "code",
   "execution_count": 4,
   "metadata": {
    "extensions": {
     "jupyter_dashboards": {
      "version": 1,
      "views": {
       "grid_default": {
        "col": 4,
        "height": 7,
        "hidden": false,
        "row": 0,
        "width": 4
       },
       "report_default": {}
      }
     }
    },
    "scrolled": true,
    "slideshow": {
     "slide_type": "fragment"
    }
   },
   "outputs": [
    {
     "name": "stdout",
     "output_type": "stream",
     "text": [
      "0\n",
      "1\n",
      "4\n",
      "9\n",
      "16\n",
      "25\n",
      "36\n",
      "49\n",
      "64\n",
      "81\n"
     ]
    }
   ],
   "source": [
    "for i in range(10):\n",
    "    print(i**2)"
   ]
  },
  {
   "cell_type": "code",
   "execution_count": 6,
   "metadata": {
    "extensions": {
     "jupyter_dashboards": {
      "version": 1,
      "views": {
       "grid_default": {
        "col": 8,
        "height": 4,
        "hidden": false,
        "row": 0,
        "width": 4
       },
       "report_default": {}
      }
     }
    },
    "scrolled": true,
    "slideshow": {
     "slide_type": "subslide"
    }
   },
   "outputs": [
    {
     "name": "stdout",
     "output_type": "stream",
     "text": [
      "No es cierto\n"
     ]
    }
   ],
   "source": [
    "if -5>0:\n",
    "    print('Esto es verdad')\n",
    "else:\n",
    "    print('No es cierto')"
   ]
  },
  {
   "cell_type": "markdown",
   "metadata": {
    "extensions": {
     "jupyter_dashboards": {
      "version": 1,
      "views": {
       "grid_default": {
        "col": 0,
        "height": 4,
        "hidden": false,
        "row": 7,
        "width": 12
       },
       "report_default": {}
      }
     }
    },
    "slideshow": {
     "slide_type": "slide"
    }
   },
   "source": [
    "### List comprenhension\n",
    "python permite obtener listas, diccionarios o tuplas utilizando el concepto de **list comprenhension**, su estructura es la siguiente:"
   ]
  },
  {
   "cell_type": "code",
   "execution_count": 7,
   "metadata": {
    "extensions": {
     "jupyter_dashboards": {
      "version": 1,
      "views": {
       "grid_default": {
        "col": 0,
        "height": 4,
        "hidden": false,
        "row": 11,
        "width": null
       },
       "report_default": {}
      }
     }
    },
    "scrolled": true,
    "slideshow": {
     "slide_type": "fragment"
    }
   },
   "outputs": [
    {
     "data": {
      "text/plain": [
       "[0, 1, 4, 9, 16, 25, 36, 49, 64, 81]"
      ]
     },
     "execution_count": 7,
     "metadata": {},
     "output_type": "execute_result"
    }
   ],
   "source": [
    "[i**2 for i in range(10)]"
   ]
  },
  {
   "cell_type": "code",
   "execution_count": 15,
   "metadata": {
    "extensions": {
     "jupyter_dashboards": {
      "version": 1,
      "views": {
       "grid_default": {
        "col": 0,
        "height": 4,
        "hidden": false,
        "row": 15,
        "width": null
       },
       "report_default": {}
      }
     }
    },
    "scrolled": true,
    "slideshow": {
     "slide_type": "fragment"
    }
   },
   "outputs": [
    {
     "data": {
      "text/plain": [
       "{0: 0, 1: 1, 2: 4, 3: 9, 4: 16, 5: 25, 6: 36, 7: 49, 8: 64, 9: 81}"
      ]
     },
     "execution_count": 15,
     "metadata": {},
     "output_type": "execute_result"
    }
   ],
   "source": [
    "diccionario = {i:i**2 for i in range(10)}\n",
    "diccionario"
   ]
  },
  {
   "cell_type": "markdown",
   "metadata": {
    "extensions": {
     "jupyter_dashboards": {
      "version": 1,
      "views": {
       "grid_default": {
        "col": 0,
        "height": 4,
        "hidden": false,
        "row": 19,
        "width": 4
       },
       "report_default": {}
      }
     }
    },
    "slideshow": {
     "slide_type": "slide"
    }
   },
   "source": [
    "## Modificando elementos de una lista"
   ]
  },
  {
   "cell_type": "code",
   "execution_count": 17,
   "metadata": {
    "extensions": {
     "jupyter_dashboards": {
      "version": 1,
      "views": {
       "grid_default": {
        "col": 4,
        "height": 4,
        "hidden": false,
        "row": 19,
        "width": null
       },
       "report_default": {}
      }
     }
    },
    "scrolled": true,
    "slideshow": {
     "slide_type": "fragment"
    }
   },
   "outputs": [
    {
     "data": {
      "text/plain": [
       "[0, 1, 4, 9, 16, 25, 36, 49, 64, 81]"
      ]
     },
     "execution_count": 17,
     "metadata": {},
     "output_type": "execute_result"
    }
   ],
   "source": [
    "lista = [i**2 for i in range(10)]\n",
    "lista"
   ]
  },
  {
   "cell_type": "code",
   "execution_count": 21,
   "metadata": {
    "extensions": {
     "jupyter_dashboards": {
      "version": 1,
      "views": {
       "grid_default": {
        "col": 0,
        "height": 4,
        "hidden": false,
        "row": 23,
        "width": null
       },
       "report_default": {}
      }
     }
    },
    "scrolled": true,
    "slideshow": {
     "slide_type": "fragment"
    }
   },
   "outputs": [
    {
     "data": {
      "text/plain": [
       "0"
      ]
     },
     "execution_count": 21,
     "metadata": {},
     "output_type": "execute_result"
    },
    {
     "data": {
      "text/plain": [
       "4"
      ]
     },
     "execution_count": 21,
     "metadata": {},
     "output_type": "execute_result"
    }
   ],
   "source": [
    "lista[0]\n",
    "lista[2]"
   ]
  },
  {
   "cell_type": "code",
   "execution_count": 23,
   "metadata": {
    "extensions": {
     "jupyter_dashboards": {
      "version": 1,
      "views": {
       "grid_default": {
        "col": 0,
        "height": 4,
        "hidden": false,
        "row": 27,
        "width": null
       },
       "report_default": {}
      }
     }
    },
    "scrolled": true,
    "slideshow": {
     "slide_type": "fragment"
    }
   },
   "outputs": [
    {
     "data": {
      "text/plain": [
       "[0.0, 1.0, 2.0, 3.0, 4.0, 5.0, 6.0, 7.0, 8.0, 9.0]"
      ]
     },
     "execution_count": 23,
     "metadata": {},
     "output_type": "execute_result"
    }
   ],
   "source": [
    "[i**(1/2) for i in lista]"
   ]
  },
  {
   "cell_type": "code",
   "execution_count": 24,
   "metadata": {
    "extensions": {
     "jupyter_dashboards": {
      "version": 1,
      "views": {
       "grid_default": {
        "col": 0,
        "height": 4,
        "hidden": false,
        "row": 31,
        "width": null
       },
       "report_default": {}
      }
     }
    },
    "scrolled": true,
    "slideshow": {
     "slide_type": "fragment"
    }
   },
   "outputs": [
    {
     "ename": "NameError",
     "evalue": "name 'sqrt' is not defined",
     "output_type": "error",
     "traceback": [
      "\u001b[0;31m---------------------------------------------------------------------------\u001b[0m",
      "\u001b[0;31mNameError\u001b[0m                                 Traceback (most recent call last)",
      "\u001b[0;32m<ipython-input-24-ffc3eeef9090>\u001b[0m in \u001b[0;36m<module>\u001b[0;34m()\u001b[0m\n\u001b[0;32m----> 1\u001b[0;31m \u001b[0mlista_sqrt\u001b[0m \u001b[0;34m=\u001b[0m \u001b[0;34m[\u001b[0m\u001b[0msqrt\u001b[0m\u001b[0;34m(\u001b[0m\u001b[0mi\u001b[0m\u001b[0;34m)\u001b[0m \u001b[0;32mfor\u001b[0m \u001b[0mi\u001b[0m \u001b[0;32min\u001b[0m \u001b[0mlista\u001b[0m\u001b[0;34m]\u001b[0m\u001b[0;34m\u001b[0m\u001b[0m\n\u001b[0m\u001b[1;32m      2\u001b[0m \u001b[0mlista_sqrt\u001b[0m\u001b[0;34m\u001b[0m\u001b[0m\n",
      "\u001b[0;32m<ipython-input-24-ffc3eeef9090>\u001b[0m in \u001b[0;36m<listcomp>\u001b[0;34m(.0)\u001b[0m\n\u001b[0;32m----> 1\u001b[0;31m \u001b[0mlista_sqrt\u001b[0m \u001b[0;34m=\u001b[0m \u001b[0;34m[\u001b[0m\u001b[0msqrt\u001b[0m\u001b[0;34m(\u001b[0m\u001b[0mi\u001b[0m\u001b[0;34m)\u001b[0m \u001b[0;32mfor\u001b[0m \u001b[0mi\u001b[0m \u001b[0;32min\u001b[0m \u001b[0mlista\u001b[0m\u001b[0;34m]\u001b[0m\u001b[0;34m\u001b[0m\u001b[0m\n\u001b[0m\u001b[1;32m      2\u001b[0m \u001b[0mlista_sqrt\u001b[0m\u001b[0;34m\u001b[0m\u001b[0m\n",
      "\u001b[0;31mNameError\u001b[0m: name 'sqrt' is not defined"
     ]
    }
   ],
   "source": [
    "lista_sqrt = [sqrt(i) for i in lista]\n",
    "lista_sqrt"
   ]
  },
  {
   "cell_type": "markdown",
   "metadata": {
    "extensions": {
     "jupyter_dashboards": {
      "version": 1,
      "views": {
       "grid_default": {
        "col": 0,
        "height": 4,
        "hidden": false,
        "row": 35,
        "width": 12
       },
       "report_default": {}
      }
     }
    },
    "slideshow": {
     "slide_type": "slide"
    }
   },
   "source": [
    "## format\n",
    "\n",
    "En python se pueden utilizar muchas formas de manipular cadenas (strings), una de estas maneras, es atra vez de la función format. Por ejemplo"
   ]
  },
  {
   "cell_type": "code",
   "execution_count": 26,
   "metadata": {
    "extensions": {
     "jupyter_dashboards": {
      "version": 1,
      "views": {
       "grid_default": {
        "col": 0,
        "height": 4,
        "hidden": false,
        "row": 39,
        "width": 4
       },
       "report_default": {}
      }
     }
    },
    "scrolled": true,
    "slideshow": {
     "slide_type": "fragment"
    }
   },
   "outputs": [
    {
     "name": "stdout",
     "output_type": "stream",
     "text": [
      "Pedro es un gran hombre\n"
     ]
    }
   ],
   "source": [
    "print('{} es un gran hombre'.format('Pedro'))"
   ]
  },
  {
   "cell_type": "code",
   "execution_count": 28,
   "metadata": {
    "extensions": {
     "jupyter_dashboards": {
      "version": 1,
      "views": {
       "grid_default": {
        "col": 4,
        "height": 4,
        "hidden": false,
        "row": 39,
        "width": 4
       },
       "report_default": {}
      }
     }
    },
    "scrolled": true,
    "slideshow": {
     "slide_type": "fragment"
    }
   },
   "outputs": [
    {
     "name": "stdout",
     "output_type": "stream",
     "text": [
      "Juan y Pedro es un gran hombre\n"
     ]
    }
   ],
   "source": [
    "print('{a}{b} es un gran hombre'.format(a='Juan ',b='y Pedro'))"
   ]
  },
  {
   "cell_type": "markdown",
   "metadata": {
    "extensions": {
     "jupyter_dashboards": {
      "version": 1,
      "views": {
       "grid_default": {
        "col": 8,
        "height": 4,
        "hidden": false,
        "row": 39,
        "width": 4
       },
       "report_default": {}
      }
     }
    },
    "slideshow": {
     "slide_type": "slide"
    }
   },
   "source": [
    "Usando nuestros ciclos y el función 'format', podemos crear cadenas que siguen algun patrón, por ejemplo:"
   ]
  },
  {
   "cell_type": "code",
   "execution_count": 29,
   "metadata": {
    "extensions": {
     "jupyter_dashboards": {
      "version": 1,
      "views": {
       "grid_default": {
        "col": 0,
        "height": 4,
        "hidden": false,
        "row": 43,
        "width": 4
       },
       "report_default": {}
      }
     }
    },
    "scrolled": true,
    "slideshow": {
     "slide_type": "fragment"
    }
   },
   "outputs": [
    {
     "name": "stdout",
     "output_type": "stream",
     "text": [
      "Juan es un gran hombre\n",
      "Pedro es un gran hombre\n",
      "Pablo es un gran hombre\n"
     ]
    }
   ],
   "source": [
    "for nombre in ['Juan', 'Pedro','Pablo']:\n",
    "    print('{a} es un gran hombre'.format(a=nombre))"
   ]
  },
  {
   "cell_type": "code",
   "execution_count": 30,
   "metadata": {
    "extensions": {
     "jupyter_dashboards": {
      "version": 1,
      "views": {
       "grid_default": {
        "col": 4,
        "height": 4,
        "hidden": false,
        "row": 43,
        "width": 4
       },
       "report_default": {}
      }
     }
    },
    "scrolled": true,
    "slideshow": {
     "slide_type": "fragment"
    }
   },
   "outputs": [
    {
     "name": "stdout",
     "output_type": "stream",
     "text": [
      "Juan no es un buen hombre\n",
      "Pedro es un gran hombre\n",
      "Pablo es un gran hombre\n"
     ]
    }
   ],
   "source": [
    "for nombre in ['Juan', 'Pedro','Pablo']:\n",
    "    if nombre[0]=='P':\n",
    "        print('{a} es un gran hombre'.format(a=nombre))\n",
    "    else:\n",
    "        print('{a} no es un buen hombre'.format(a=nombre))"
   ]
  },
  {
   "cell_type": "markdown",
   "metadata": {
    "extensions": {
     "jupyter_dashboards": {
      "version": 1,
      "views": {
       "grid_default": {
        "hidden": true
       },
       "report_default": {}
      }
     }
    },
    "slideshow": {
     "slide_type": "slide"
    }
   },
   "source": [
    "## Aplicaciones en sympy\n"
   ]
  },
  {
   "cell_type": "code",
   "execution_count": 32,
   "metadata": {
    "scrolled": true
   },
   "outputs": [],
   "source": [
    "from sympy import *\n",
    "init_printing()\n",
    "\n",
    "def dic_inv(dicc):\n",
    "    '''\n",
    "    Esta función toma un diccionario e invierte sus \n",
    "    claves y valores\n",
    "    '''\n",
    "    claves = list(dict.keys(dicc))\n",
    "    return {dicc[i]:i for i in claves}"
   ]
  },
  {
   "cell_type": "markdown",
   "metadata": {},
   "source": [
    "### Notación relativista"
   ]
  },
  {
   "cell_type": "code",
   "execution_count": 33,
   "metadata": {
    "scrolled": true,
    "slideshow": {
     "slide_type": "subslide"
    }
   },
   "outputs": [
    {
     "data": {
      "image/png": "[encoded data removed]",
      "text/latex": [
       "$$\\left \\{ 0 : x_{0}, \\quad 1 : x_{1}, \\quad 2 : x_{2}, \\quad 3 : x_{3}\\right \\}$$"
      ],
      "text/plain": [
       "{0: x₀, 1: x₁, 2: x₂, 3: x₃}"
      ]
     },
     "execution_count": 33,
     "metadata": {},
     "output_type": "execute_result"
    }
   ],
   "source": [
    "x_ = {i:symbols('x_{a}'.format(a=i)) for i in range(4)}\n",
    "x_"
   ]
  },
  {
   "cell_type": "code",
   "execution_count": 34,
   "metadata": {
    "scrolled": true,
    "slideshow": {
     "slide_type": "fragment"
    }
   },
   "outputs": [
    {
     "data": {
      "image/png": "[encoded data removed]",
      "text/latex": [
       "$$x_{3}$$"
      ],
      "text/plain": [
       "x₃"
      ]
     },
     "execution_count": 34,
     "metadata": {},
     "output_type": "execute_result"
    }
   ],
   "source": [
    "x_[3]"
   ]
  },
  {
   "cell_type": "code",
   "execution_count": 36,
   "metadata": {
    "scrolled": true,
    "slideshow": {
     "slide_type": "fragment"
    }
   },
   "outputs": [
    {
     "data": {
      "image/png": "[encoded data removed]",
      "text/latex": [
       "$$\\left \\{ 0 : x^{0}, \\quad 1 : x^{1}, \\quad 2 : x^{2}, \\quad 3 : x^{3}\\right \\}$$"
      ],
      "text/plain": [
       "{0: x⁰, 1: x¹, 2: x², 3: x³}"
      ]
     },
     "execution_count": 36,
     "metadata": {},
     "output_type": "execute_result"
    },
    {
     "data": {
      "image/png": "[encoded data removed]",
      "text/latex": [
       "$$x^{0}$$"
      ],
      "text/plain": [
       "x⁰"
      ]
     },
     "execution_count": 36,
     "metadata": {},
     "output_type": "execute_result"
    }
   ],
   "source": [
    "x = {i:symbols('x^{a}'.format(a=i)) for i in range(4)}\n",
    "x\n",
    "x[0]"
   ]
  },
  {
   "cell_type": "code",
   "execution_count": 40,
   "metadata": {
    "scrolled": true,
    "slideshow": {
     "slide_type": "fragment"
    }
   },
   "outputs": [
    {
     "data": {
      "image/png": "[encoded data removed]",
      "text/latex": [
       "$$x^{2} x_{2} + x^{3} x_{3} + 2 x_{1}$$"
      ],
      "text/plain": [
       "x²⋅x₂ + x³⋅x₃ + 2⋅x₁"
      ]
     },
     "execution_count": 40,
     "metadata": {},
     "output_type": "execute_result"
    }
   ],
   "source": [
    "Add(*[x_[i]*x[i] for i in range(4)]).subs({x[0]:0,x[1]:2})"
   ]
  },
  {
   "cell_type": "markdown",
   "metadata": {
    "slideshow": {
     "slide_type": "slide"
    }
   },
   "source": [
    "### Potencial de ME"
   ]
  },
  {
   "cell_type": "code",
   "execution_count": 42,
   "metadata": {
    "scrolled": true,
    "slideshow": {
     "slide_type": "subslide"
    }
   },
   "outputs": [
    {
     "data": {
      "image/png": "[encoded data removed]",
      "text/latex": [
       "$$\\left \\{ 1 : \\phi_1, \\quad 2 : \\phi_2, \\quad 3 : \\phi_3, \\quad 4 : \\phi_4\\right \\}$$"
      ],
      "text/plain": [
       "{1: \\phi₁, 2: \\phi₂, 3: \\phi₃, 4: \\phi₄}"
      ]
     },
     "execution_count": 42,
     "metadata": {},
     "output_type": "execute_result"
    }
   ],
   "source": [
    "from sympy.physics.quantum import Dagger, HermitianOperator\n",
    "# Definamos los campos ϕ_i con i = 1,..4\n",
    "ϕ = {i:HermitianOperator(r'\\phi_{a}'.format(a=i)) for i in range(1,5)}\n",
    "ϕ"
   ]
  },
  {
   "cell_type": "code",
   "execution_count": 43,
   "metadata": {
    "scrolled": true,
    "slideshow": {
     "slide_type": "fragment"
    }
   },
   "outputs": [
    {
     "data": {
      "image/png": "[encoded data removed]",
      "text/latex": [
       "$$\\left[\\begin{matrix}\\phi_1 + i \\phi_2\\\\\\phi_3 + i \\phi_4\\end{matrix}\\right]$$"
      ],
      "text/plain": [
       "⎡\\phi₁ + ⅈ⋅\\phi₂⎤\n",
       "⎢               ⎥\n",
       "⎣\\phi₃ + ⅈ⋅\\phi₄⎦"
      ]
     },
     "execution_count": 43,
     "metadata": {},
     "output_type": "execute_result"
    }
   ],
   "source": [
    "Φ = Matrix([ϕ[1] + I*ϕ[2],ϕ[3] + I*ϕ[4]])\n",
    "Φ"
   ]
  },
  {
   "cell_type": "code",
   "execution_count": 45,
   "metadata": {
    "run_control": {
     "marked": false
    },
    "scrolled": true,
    "slideshow": {
     "slide_type": "fragment"
    }
   },
   "outputs": [
    {
     "data": {
      "image/png": "[encoded data removed]",
      "text/latex": [
       "$$\\left(\\phi_1 - i \\phi_2\\right) \\left(\\phi_1 + i \\phi_2\\right) + \\left(\\phi_3 - i \\phi_4\\right) \\left(\\phi_3 + i \\phi_4\\right)$$"
      ],
      "text/plain": [
       "(\\phi₁ - ⅈ⋅\\phi₂)⋅(\\phi₁ + ⅈ⋅\\phi₂) + (\\phi₃ - ⅈ⋅\\phi₄)⋅(\\phi₃ + ⅈ⋅\\phi₄)"
      ]
     },
     "execution_count": 45,
     "metadata": {},
     "output_type": "execute_result"
    }
   ],
   "source": [
    "A = (Matrix(list(map(Dagger, Φ))).T*Φ)[0]\n",
    "A"
   ]
  },
  {
   "cell_type": "code",
   "execution_count": 115,
   "metadata": {
    "scrolled": false,
    "slideshow": {
     "slide_type": "subslide"
    }
   },
   "outputs": [
    {
     "data": {
      "image/png": "[encoded data removed]",
      "text/latex": [
       "$$V_{h} = \\frac{\\lambda \\phi_1}{4} \\phi_2 \\phi_1 \\phi_2 - \\frac{i \\lambda}{4} \\phi_1 \\phi_2 \\phi_1^{2} + \\frac{\\lambda \\phi_1}{4} \\phi_2 \\phi_3 \\phi_4 - \\frac{i \\lambda}{4} \\phi_1 \\phi_2 \\phi_3^{2} - \\frac{\\lambda \\phi_1}{4} \\phi_2 \\phi_4 \\phi_3 - \\frac{i \\lambda}{4} \\phi_1 \\phi_2 \\phi_4^{2} - \\frac{\\lambda \\phi_1}{4} \\phi_2^{2} \\phi_1 - \\frac{i \\lambda}{4} \\phi_1 \\phi_2^{3} + \\frac{i \\lambda}{4} \\phi_1^{2} \\phi_2 \\phi_1 - \\frac{\\lambda \\phi_1^{2}}{4} \\phi_2^{2} - \\frac{i \\lambda}{4} \\phi_1^{2} \\phi_3 \\phi_4 - \\frac{\\lambda \\phi_1^{2}}{4} \\phi_3^{2} + \\frac{i \\lambda}{4} \\phi_1^{2} \\phi_4 \\phi_3 - \\frac{\\lambda \\phi_1^{2}}{4} \\phi_4^{2} - \\frac{i \\lambda}{4} \\phi_1^{3} \\phi_2 - \\frac{\\lambda \\phi_1^{4}}{4} + \\frac{\\lambda \\phi_2}{4} \\phi_1 \\phi_2 \\phi_1 + \\frac{i \\lambda}{4} \\phi_2 \\phi_1 \\phi_2^{2} - \\frac{\\lambda \\phi_2}{4} \\phi_1 \\phi_3 \\phi_4 + \\frac{i \\lambda}{4} \\phi_2 \\phi_1 \\phi_3^{2} + \\frac{\\lambda \\phi_2}{4} \\phi_1 \\phi_4 \\phi_3 + \\frac{i \\lambda}{4} \\phi_2 \\phi_1 \\phi_4^{2} - \\frac{\\lambda \\phi_2}{4} \\phi_1^{2} \\phi_2 + \\frac{i \\lambda}{4} \\phi_2 \\phi_1^{3} - \\frac{i \\lambda}{4} \\phi_2^{2} \\phi_1 \\phi_2 - \\frac{\\lambda \\phi_2^{2}}{4} \\phi_1^{2} - \\frac{i \\lambda}{4} \\phi_2^{2} \\phi_3 \\phi_4 - \\frac{\\lambda \\phi_2^{2}}{4} \\phi_3^{2} + \\frac{i \\lambda}{4} \\phi_2^{2} \\phi_4 \\phi_3 - \\frac{\\lambda \\phi_2^{2}}{4} \\phi_4^{2} + \\frac{i \\lambda}{4} \\phi_2^{3} \\phi_1 - \\frac{\\lambda \\phi_2^{4}}{4} + \\frac{\\lambda \\phi_3}{4} \\phi_4 \\phi_1 \\phi_2 - \\frac{i \\lambda}{4} \\phi_3 \\phi_4 \\phi_1^{2} - \\frac{\\lambda \\phi_3}{4} \\phi_4 \\phi_2 \\phi_1 - \\frac{i \\lambda}{4} \\phi_3 \\phi_4 \\phi_2^{2} + \\frac{\\lambda \\phi_3}{4} \\phi_4 \\phi_3 \\phi_4 - \\frac{i \\lambda}{4} \\phi_3 \\phi_4 \\phi_3^{2} - \\frac{\\lambda \\phi_3}{4} \\phi_4^{2} \\phi_3 - \\frac{i \\lambda}{4} \\phi_3 \\phi_4^{3} - \\frac{i \\lambda}{4} \\phi_3^{2} \\phi_1 \\phi_2 - \\frac{\\lambda \\phi_3^{2}}{4} \\phi_1^{2} + \\frac{i \\lambda}{4} \\phi_3^{2} \\phi_2 \\phi_1 - \\frac{\\lambda \\phi_3^{2}}{4} \\phi_2^{2} + \\frac{i \\lambda}{4} \\phi_3^{2} \\phi_4 \\phi_3 - \\frac{\\lambda \\phi_3^{2}}{4} \\phi_4^{2} - \\frac{i \\lambda}{4} \\phi_3^{3} \\phi_4 - \\frac{\\lambda \\phi_3^{4}}{4} - \\frac{\\lambda \\phi_4}{4} \\phi_3 \\phi_1 \\phi_2 + \\frac{i \\lambda}{4} \\phi_4 \\phi_3 \\phi_1^{2} + \\frac{\\lambda \\phi_4}{4} \\phi_3 \\phi_2 \\phi_1 + \\frac{i \\lambda}{4} \\phi_4 \\phi_3 \\phi_2^{2} + \\frac{\\lambda \\phi_4}{4} \\phi_3 \\phi_4 \\phi_3 + \\frac{i \\lambda}{4} \\phi_4 \\phi_3 \\phi_4^{2} - \\frac{\\lambda \\phi_4}{4} \\phi_3^{2} \\phi_4 + \\frac{i \\lambda}{4} \\phi_4 \\phi_3^{3} - \\frac{i \\lambda}{4} \\phi_4^{2} \\phi_1 \\phi_2 - \\frac{\\lambda \\phi_4^{2}}{4} \\phi_1^{2} + \\frac{i \\lambda}{4} \\phi_4^{2} \\phi_2 \\phi_1 - \\frac{\\lambda \\phi_4^{2}}{4} \\phi_2^{2} - \\frac{i \\lambda}{4} \\phi_4^{2} \\phi_3 \\phi_4 - \\frac{\\lambda \\phi_4^{2}}{4} \\phi_3^{2} + \\frac{i \\lambda}{4} \\phi_4^{3} \\phi_3 - \\frac{\\lambda \\phi_4^{4}}{4} + \\frac{i m_{h}^{2}}{2} \\phi_1 \\phi_2 + \\frac{m_{h}^{2} \\phi_1^{2}}{2} - \\frac{i m_{h}^{2}}{2} \\phi_2 \\phi_1 + \\frac{m_{h}^{2} \\phi_2^{2}}{2} + \\frac{i m_{h}^{2}}{2} \\phi_3 \\phi_4 + \\frac{m_{h}^{2} \\phi_3^{2}}{2} - \\frac{i m_{h}^{2}}{2} \\phi_4 \\phi_3 + \\frac{m_{h}^{2} \\phi_4^{2}}{2}$$"
      ],
      "text/plain": [
       "                                                                  2           \n",
       "     \\lambda⋅\\phi₁⋅\\phi₂⋅\\phi₁⋅\\phi₂   ⅈ⋅\\lambda⋅\\phi₁⋅\\phi₂⋅\\phi₁    \\lambda⋅\n",
       "Vₕ = ─────────────────────────────── - ──────────────────────────── + ────────\n",
       "                    4                               4                         \n",
       "\n",
       "                                                     2                        \n",
       "\\phi₁⋅\\phi₂⋅\\phi₃⋅\\phi₄   ⅈ⋅\\lambda⋅\\phi₁⋅\\phi₂⋅\\phi₃    \\lambda⋅\\phi₁⋅\\phi₂⋅\\\n",
       "─────────────────────── - ──────────────────────────── - ─────────────────────\n",
       "       4                               4                                4     \n",
       "\n",
       "                                        2                      2              \n",
       "phi₄⋅\\phi₃   ⅈ⋅\\lambda⋅\\phi₁⋅\\phi₂⋅\\phi₄    \\lambda⋅\\phi₁⋅\\phi₂ ⋅\\phi₁   ⅈ⋅\\la\n",
       "────────── - ──────────────────────────── - ────────────────────────── - ─────\n",
       "                          4                             4                     \n",
       "\n",
       "                3                  2                            2      2      \n",
       "mbda⋅\\phi₁⋅\\phi₂    ⅈ⋅\\lambda⋅\\phi₁ ⋅\\phi₂⋅\\phi₁   \\lambda⋅\\phi₁ ⋅\\phi₂    ⅈ⋅\\\n",
       "───────────────── + ──────────────────────────── - ───────────────────── - ───\n",
       "     4                           4                           4                \n",
       "\n",
       "            2                            2      2                  2          \n",
       "lambda⋅\\phi₁ ⋅\\phi₃⋅\\phi₄   \\lambda⋅\\phi₁ ⋅\\phi₃    ⅈ⋅\\lambda⋅\\phi₁ ⋅\\phi₄⋅\\ph\n",
       "───────────────────────── - ───────────────────── + ──────────────────────────\n",
       "          4                           4                          4            \n",
       "\n",
       "                  2      2                  3                      4          \n",
       "i₃   \\lambda⋅\\phi₁ ⋅\\phi₄    ⅈ⋅\\lambda⋅\\phi₁ ⋅\\phi₂   \\lambda⋅\\phi₁    \\lambda\n",
       "── - ───────────────────── - ────────────────────── - ────────────── + ───────\n",
       "               4                       4                    4                 \n",
       "\n",
       "                                                      2                       \n",
       "⋅\\phi₂⋅\\phi₁⋅\\phi₂⋅\\phi₁   ⅈ⋅\\lambda⋅\\phi₂⋅\\phi₁⋅\\phi₂    \\lambda⋅\\phi₂⋅\\phi₁⋅\n",
       "──────────────────────── + ──────────────────────────── - ────────────────────\n",
       "        4                               4                                4    \n",
       "\n",
       "                                         2                                    \n",
       "\\phi₃⋅\\phi₄   ⅈ⋅\\lambda⋅\\phi₂⋅\\phi₁⋅\\phi₃    \\lambda⋅\\phi₂⋅\\phi₁⋅\\phi₄⋅\\phi₃  \n",
       "─────────── + ──────────────────────────── + ─────────────────────────────── +\n",
       "                           4                                4                 \n",
       "\n",
       "                            2                      2                          \n",
       " ⅈ⋅\\lambda⋅\\phi₂⋅\\phi₁⋅\\phi₄    \\lambda⋅\\phi₂⋅\\phi₁ ⋅\\phi₂   ⅈ⋅\\lambda⋅\\phi₂⋅\\\n",
       " ──────────────────────────── - ────────────────────────── + ─────────────────\n",
       "              4                             4                          4      \n",
       "\n",
       "    3                  2                            2      2                  \n",
       "phi₁    ⅈ⋅\\lambda⋅\\phi₂ ⋅\\phi₁⋅\\phi₂   \\lambda⋅\\phi₂ ⋅\\phi₁    ⅈ⋅\\lambda⋅\\phi₂\n",
       "───── - ──────────────────────────── - ───────────────────── - ───────────────\n",
       "                     4                           4                          4 \n",
       "\n",
       "2                            2      2                  2                      \n",
       " ⋅\\phi₃⋅\\phi₄   \\lambda⋅\\phi₂ ⋅\\phi₃    ⅈ⋅\\lambda⋅\\phi₂ ⋅\\phi₄⋅\\phi₃   \\lambda\n",
       "───────────── - ───────────────────── + ──────────────────────────── - ───────\n",
       "                          4                          4                        \n",
       "\n",
       "      2      2                  3                      4                      \n",
       "⋅\\phi₂ ⋅\\phi₄    ⅈ⋅\\lambda⋅\\phi₂ ⋅\\phi₁   \\lambda⋅\\phi₂    \\lambda⋅\\phi₃⋅\\phi₄\n",
       "────────────── + ────────────────────── - ────────────── + ───────────────────\n",
       "   4                       4                    4                         4   \n",
       "\n",
       "                                          2                                   \n",
       "⋅\\phi₁⋅\\phi₂   ⅈ⋅\\lambda⋅\\phi₃⋅\\phi₄⋅\\phi₁    \\lambda⋅\\phi₃⋅\\phi₄⋅\\phi₂⋅\\phi₁ \n",
       "──────────── - ──────────────────────────── - ─────────────────────────────── \n",
       "                            4                                4                \n",
       "\n",
       "                             2                                                \n",
       "  ⅈ⋅\\lambda⋅\\phi₃⋅\\phi₄⋅\\phi₂    \\lambda⋅\\phi₃⋅\\phi₄⋅\\phi₃⋅\\phi₄   ⅈ⋅\\lambda⋅\\\n",
       "- ──────────────────────────── + ─────────────────────────────── - ───────────\n",
       "               4                                4                             \n",
       "\n",
       "                2                      2                              3       \n",
       "phi₃⋅\\phi₄⋅\\phi₃    \\lambda⋅\\phi₃⋅\\phi₄ ⋅\\phi₃   ⅈ⋅\\lambda⋅\\phi₃⋅\\phi₄    ⅈ⋅\\l\n",
       "───────────────── - ────────────────────────── - ────────────────────── - ────\n",
       "  4                             4                          4                  \n",
       "\n",
       "           2                            2      2                  2           \n",
       "ambda⋅\\phi₃ ⋅\\phi₁⋅\\phi₂   \\lambda⋅\\phi₃ ⋅\\phi₁    ⅈ⋅\\lambda⋅\\phi₃ ⋅\\phi₂⋅\\phi\n",
       "──────────────────────── - ───────────────────── + ───────────────────────────\n",
       "         4                           4                          4             \n",
       "\n",
       "                 2      2                  2                            2     \n",
       "₁   \\lambda⋅\\phi₃ ⋅\\phi₂    ⅈ⋅\\lambda⋅\\phi₃ ⋅\\phi₄⋅\\phi₃   \\lambda⋅\\phi₃ ⋅\\phi\n",
       "─ - ───────────────────── + ──────────────────────────── - ───────────────────\n",
       "              4                          4                           4        \n",
       "\n",
       " 2                  3                      4                                  \n",
       "₄    ⅈ⋅\\lambda⋅\\phi₃ ⋅\\phi₄   \\lambda⋅\\phi₃    \\lambda⋅\\phi₄⋅\\phi₃⋅\\phi₁⋅\\phi₂\n",
       "── - ────────────────────── - ────────────── - ───────────────────────────────\n",
       "               4                    4                         4               \n",
       "\n",
       "                              2                                               \n",
       "   ⅈ⋅\\lambda⋅\\phi₄⋅\\phi₃⋅\\phi₁    \\lambda⋅\\phi₄⋅\\phi₃⋅\\phi₂⋅\\phi₁   ⅈ⋅\\lambda⋅\n",
       " + ──────────────────────────── + ─────────────────────────────── + ──────────\n",
       "                4                                4                            \n",
       "\n",
       "                 2                                                            \n",
       "\\phi₄⋅\\phi₃⋅\\phi₂    \\lambda⋅\\phi₄⋅\\phi₃⋅\\phi₄⋅\\phi₃   ⅈ⋅\\lambda⋅\\phi₄⋅\\phi₃⋅\\\n",
       "────────────────── + ─────────────────────────────── + ───────────────────────\n",
       "   4                                4                               4         \n",
       "\n",
       "    2                      2                              3                  2\n",
       "phi₄    \\lambda⋅\\phi₄⋅\\phi₃ ⋅\\phi₄   ⅈ⋅\\lambda⋅\\phi₄⋅\\phi₃    ⅈ⋅\\lambda⋅\\phi₄ \n",
       "───── - ────────────────────────── + ────────────────────── - ────────────────\n",
       "                    4                          4                           4  \n",
       "\n",
       "                            2      2                  2                       \n",
       "⋅\\phi₁⋅\\phi₂   \\lambda⋅\\phi₄ ⋅\\phi₁    ⅈ⋅\\lambda⋅\\phi₄ ⋅\\phi₂⋅\\phi₁   \\lambda⋅\n",
       "──────────── - ───────────────────── + ──────────────────────────── - ────────\n",
       "                         4                          4                         \n",
       "\n",
       "     2      2                  2                            2      2          \n",
       "\\phi₄ ⋅\\phi₂    ⅈ⋅\\lambda⋅\\phi₄ ⋅\\phi₃⋅\\phi₄   \\lambda⋅\\phi₄ ⋅\\phi₃    ⅈ⋅\\lamb\n",
       "───────────── - ──────────────────────────── - ───────────────────── + ───────\n",
       "  4                          4                           4                    \n",
       "\n",
       "        3                      4       2                 2      2       2     \n",
       "da⋅\\phi₄ ⋅\\phi₃   \\lambda⋅\\phi₄    ⅈ⋅mₕ ⋅\\phi₁⋅\\phi₂   mₕ ⋅\\phi₁    ⅈ⋅mₕ ⋅\\phi\n",
       "─────────────── - ────────────── + ───────────────── + ────────── - ──────────\n",
       "   4                    4                  2               2                2 \n",
       "\n",
       "            2      2       2                 2      2       2                 \n",
       "₂⋅\\phi₁   mₕ ⋅\\phi₂    ⅈ⋅mₕ ⋅\\phi₃⋅\\phi₄   mₕ ⋅\\phi₃    ⅈ⋅mₕ ⋅\\phi₄⋅\\phi₃   mₕ\n",
       "─────── + ────────── + ───────────────── + ────────── - ───────────────── + ──\n",
       "              2                2               2                2             \n",
       "\n",
       "2      2\n",
       " ⋅\\phi₄ \n",
       "────────\n",
       "  2     "
      ]
     },
     "execution_count": 115,
     "metadata": {},
     "output_type": "execute_result"
    }
   ],
   "source": [
    "m_h = Symbol(r'm_h')\n",
    "λ = Symbol(r'\\lambda')\n",
    "V_h = Symbol(r'V_h')\n",
    "\n",
    "V = (m_h**2/2)*A - (λ/4)*(A)**2\n",
    "Eq(V_h, V.expand())"
   ]
  },
  {
   "cell_type": "markdown",
   "metadata": {
    "slideshow": {
     "slide_type": "subslide"
    }
   },
   "source": [
    "### Problema\n",
    "\n",
    "Crear una función que tomé como input una expresión (V) y una lista que contenga campos, de tal forma que el output sea la expresión original pero con los campos conmutados. \n",
    "\n",
    "**Recuerda que:** en sympy puedes usar el comando subs para sustituir los campos por simbolos que si conmuten para después simplificar y finalmente volver a sustituir los simbolos conmutativos por los operadores originales"
   ]
  },
  {
   "cell_type": "code",
   "execution_count": null,
   "metadata": {},
   "outputs": [],
   "source": []
  }
 ],
 "metadata": {
  "extensions": {
   "jupyter_dashboards": {
    "activeView": "grid_default",
    "version": 1,
    "views": {
     "grid_default": {
      "cellMargin": 10,
      "defaultCellHeight": 20,
      "maxColumns": 12,
      "name": "grid",
      "type": "grid"
     },
     "report_default": {
      "name": "report",
      "type": "report"
     }
    }
   }
  },
  "kernelspec": {
   "display_name": "Python [conda env:ipykernel_py3]",
   "language": "python",
   "name": "conda-env-ipykernel_py3-py"
  },
  "language_info": {
   "codemirror_mode": {
    "name": "ipython",
    "version": 3
   },
   "file_extension": ".py",
   "mimetype": "text/x-python",
   "name": "python",
   "nbconvert_exporter": "python",
   "pygments_lexer": "ipython3",
   "version": "3.6.4"
  },
  "latex_envs": {
   "LaTeX_envs_menu_present": true,
   "autoclose": false,
   "autocomplete": true,
   "bibliofile": "biblio.bib",
   "cite_by": "apalike",
   "current_citInitial": 1,
   "eqLabelWithNumbers": true,
   "eqNumInitial": 1,
   "hotkeys": {
    "equation": "Ctrl-E",
    "itemize": "Ctrl-I"
   },
   "labels_anchors": false,
   "latex_user_defs": false,
   "report_style_numbering": false,
   "user_envs_cfg": false
  },
  "toc": {
   "nav_menu": {
    "height": "168px",
    "width": "256px"
   },
   "number_sections": true,
   "sideBar": true,
   "skip_h1_title": false,
   "toc_cell": false,
   "toc_position": {},
   "toc_section_display": "block",
   "toc_window_display": false
  }
 },
 "nbformat": 4,
 "nbformat_minor": 2
}
