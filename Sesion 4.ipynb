{
 "cells": [
  {
   "cell_type": "markdown",
   "metadata": {
    "slideshow": {
     "slide_type": "slide"
    }
   },
   "source": [
    "# numpy, pandas y sympy"
   ]
  },
  {
   "cell_type": "code",
   "execution_count": 25,
   "metadata": {
    "slideshow": {
     "slide_type": "fragment"
    }
   },
   "outputs": [],
   "source": [
    "from IPython.core.interactiveshell import InteractiveShell\n",
    "InteractiveShell.ast_node_interactivity = \"all\""
   ]
  },
  {
   "cell_type": "markdown",
   "metadata": {
    "slideshow": {
     "slide_type": "slide"
    }
   },
   "source": [
    "## Multiplicando matrices en python"
   ]
  },
  {
   "cell_type": "code",
   "execution_count": 61,
   "metadata": {
    "scrolled": true,
    "slideshow": {
     "slide_type": "fragment"
    }
   },
   "outputs": [
    {
     "data": {
      "image/png": "[encoded data removed]",
      "text/latex": [
       "$$\\left [ \\left [ 1, \\quad 2, \\quad 3, \\quad 4, \\quad 5, \\quad 6, \\quad 7, \\quad 8, \\quad 9\\right ], \\quad \\left [ 2, \\quad 4, \\quad 6, \\quad 8, \\quad 10, \\quad 12, \\quad 14, \\quad 16, \\quad 18\\right ], \\quad \\left [ 3, \\quad 6, \\quad 9, \\quad 12, \\quad 15, \\quad 18, \\quad 21, \\quad 24, \\quad 27\\right ], \\quad \\left [ 4, \\quad 8, \\quad 12, \\quad 16, \\quad 20, \\quad 24, \\quad 28, \\quad 32, \\quad 36\\right ], \\quad \\left [ 5, \\quad 10, \\quad 15, \\quad 20, \\quad 25, \\quad 30, \\quad 35, \\quad 40, \\quad 45\\right ], \\quad \\left [ 6, \\quad 12, \\quad 18, \\quad 24, \\quad 30, \\quad 36, \\quad 42, \\quad 48, \\quad 54\\right ], \\quad \\left [ 7, \\quad 14, \\quad 21, \\quad 28, \\quad 35, \\quad 42, \\quad 49, \\quad 56, \\quad 63\\right ], \\quad \\left [ 8, \\quad 16, \\quad 24, \\quad 32, \\quad 40, \\quad 48, \\quad 56, \\quad 64, \\quad 72\\right ], \\quad \\left [ 9, \\quad 18, \\quad 27, \\quad 36, \\quad 45, \\quad 54, \\quad 63, \\quad 72, \\quad 81\\right ]\\right ]$$"
      ],
      "text/plain": [
       "[[1, 2, 3, 4, 5, 6, 7, 8, 9], [2, 4, 6, 8, 10, 12, 14, 16, 18], [3, 6, 9, 12, \n",
       "15, 18, 21, 24, 27], [4, 8, 12, 16, 20, 24, 28, 32, 36], [5, 10, 15, 20, 25, 3\n",
       "0, 35, 40, 45], [6, 12, 18, 24, 30, 36, 42, 48, 54], [7, 14, 21, 28, 35, 42, 4\n",
       "9, 56, 63], [8, 16, 24, 32, 40, 48, 56, 64, 72], [9, 18, 27, 36, 45, 54, 63, 7\n",
       "2, 81]]"
      ]
     },
     "execution_count": 61,
     "metadata": {},
     "output_type": "execute_result"
    }
   ],
   "source": [
    "t = [[i*j for i in range(1,10)] for j in range(1,10)]\n",
    "t"
   ]
  },
  {
   "cell_type": "code",
   "execution_count": 62,
   "metadata": {
    "slideshow": {
     "slide_type": "fragment"
    }
   },
   "outputs": [
    {
     "data": {
      "image/png": "[encoded data removed]",
      "text/latex": [
       "$$\\left [ \\left [ 1, \\quad 4, \\quad 9, \\quad 16, \\quad 25, \\quad 36, \\quad 49, \\quad 64, \\quad 81\\right ], \\quad \\left [ 4, \\quad 16, \\quad 36, \\quad 64, \\quad 100, \\quad 144, \\quad 196, \\quad 256, \\quad 324\\right ], \\quad \\left [ 9, \\quad 36, \\quad 81, \\quad 144, \\quad 225, \\quad 324, \\quad 441, \\quad 576, \\quad 729\\right ], \\quad \\left [ 16, \\quad 64, \\quad 144, \\quad 256, \\quad 400, \\quad 576, \\quad 784, \\quad 1024, \\quad 1296\\right ], \\quad \\left [ 25, \\quad 100, \\quad 225, \\quad 400, \\quad 625, \\quad 900, \\quad 1225, \\quad 1600, \\quad 2025\\right ], \\quad \\left [ 36, \\quad 144, \\quad 324, \\quad 576, \\quad 900, \\quad 1296, \\quad 1764, \\quad 2304, \\quad 2916\\right ], \\quad \\left [ 49, \\quad 196, \\quad 441, \\quad 784, \\quad 1225, \\quad 1764, \\quad 2401, \\quad 3136, \\quad 3969\\right ], \\quad \\left [ 64, \\quad 256, \\quad 576, \\quad 1024, \\quad 1600, \\quad 2304, \\quad 3136, \\quad 4096, \\quad 5184\\right ], \\quad \\left [ 81, \\quad 324, \\quad 729, \\quad 1296, \\quad 2025, \\quad 2916, \\quad 3969, \\quad 5184, \\quad 6561\\right ]\\right ]$$"
      ],
      "text/plain": [
       "[[1, 4, 9, 16, 25, 36, 49, 64, 81], [4, 16, 36, 64, 100, 144, 196, 256, 324], \n",
       "[9, 36, 81, 144, 225, 324, 441, 576, 729], [16, 64, 144, 256, 400, 576, 784, 1\n",
       "024, 1296], [25, 100, 225, 400, 625, 900, 1225, 1600, 2025], [36, 144, 324, 57\n",
       "6, 900, 1296, 1764, 2304, 2916], [49, 196, 441, 784, 1225, 1764, 2401, 3136, 3\n",
       "969], [64, 256, 576, 1024, 1600, 2304, 3136, 4096, 5184], [81, 324, 729, 1296,\n",
       " 2025, 2916, 3969, 5184, 6561]]"
      ]
     },
     "execution_count": 62,
     "metadata": {},
     "output_type": "execute_result"
    }
   ],
   "source": [
    "A = [[t[i][j]*t[i][j] for i in range(9)] for j in range(9)]\n",
    "A"
   ]
  },
  {
   "cell_type": "markdown",
   "metadata": {
    "slideshow": {
     "slide_type": "slide"
    }
   },
   "source": [
    "## numpy\n",
    "\n",
    "Este paquete de python se dedica a los calculos númericos. Los cuales son **más rápidos** que si los realizamos a traves de funciones de python puras. \n",
    "\n",
    "La convención para cargarlo es la siguiente:"
   ]
  },
  {
   "cell_type": "code",
   "execution_count": 2,
   "metadata": {
    "slideshow": {
     "slide_type": "fragment"
    }
   },
   "outputs": [],
   "source": [
    "import numpy as np"
   ]
  },
  {
   "cell_type": "code",
   "execution_count": 63,
   "metadata": {
    "slideshow": {
     "slide_type": "fragment"
    }
   },
   "outputs": [
    {
     "data": {
      "text/plain": [
       "array([[ 1,  2,  3,  4,  5,  6,  7,  8,  9],\n",
       "       [ 2,  4,  6,  8, 10, 12, 14, 16, 18],\n",
       "       [ 3,  6,  9, 12, 15, 18, 21, 24, 27],\n",
       "       [ 4,  8, 12, 16, 20, 24, 28, 32, 36],\n",
       "       [ 5, 10, 15, 20, 25, 30, 35, 40, 45],\n",
       "       [ 6, 12, 18, 24, 30, 36, 42, 48, 54],\n",
       "       [ 7, 14, 21, 28, 35, 42, 49, 56, 63],\n",
       "       [ 8, 16, 24, 32, 40, 48, 56, 64, 72],\n",
       "       [ 9, 18, 27, 36, 45, 54, 63, 72, 81]])"
      ]
     },
     "execution_count": 63,
     "metadata": {},
     "output_type": "execute_result"
    },
    {
     "name": "stdout",
     "output_type": "stream",
     "text": [
      "El tammaño del array es:\n"
     ]
    },
    {
     "data": {
      "image/png": "[encoded data removed]",
      "text/latex": [
       "$$\\left ( 9, \\quad 9\\right )$$"
      ],
      "text/plain": [
       "(9, 9)"
      ]
     },
     "execution_count": 63,
     "metadata": {},
     "output_type": "execute_result"
    }
   ],
   "source": [
    "M = np.array(t)\n",
    "M\n",
    "print('El tammaño del array es:')\n",
    "np.shape(M)"
   ]
  },
  {
   "cell_type": "markdown",
   "metadata": {
    "slideshow": {
     "slide_type": "subslide"
    }
   },
   "source": [
    "### Multiplicando matrices en numpy"
   ]
  },
  {
   "cell_type": "code",
   "execution_count": 65,
   "metadata": {
    "slideshow": {
     "slide_type": "fragment"
    }
   },
   "outputs": [
    {
     "data": {
      "text/plain": [
       "array([[   1,    4,    9,   16,   25,   36,   49,   64,   81],\n",
       "       [   4,   16,   36,   64,  100,  144,  196,  256,  324],\n",
       "       [   9,   36,   81,  144,  225,  324,  441,  576,  729],\n",
       "       [  16,   64,  144,  256,  400,  576,  784, 1024, 1296],\n",
       "       [  25,  100,  225,  400,  625,  900, 1225, 1600, 2025],\n",
       "       [  36,  144,  324,  576,  900, 1296, 1764, 2304, 2916],\n",
       "       [  49,  196,  441,  784, 1225, 1764, 2401, 3136, 3969],\n",
       "       [  64,  256,  576, 1024, 1600, 2304, 3136, 4096, 5184],\n",
       "       [  81,  324,  729, 1296, 2025, 2916, 3969, 5184, 6561]])"
      ]
     },
     "execution_count": 65,
     "metadata": {},
     "output_type": "execute_result"
    }
   ],
   "source": [
    "M*M"
   ]
  },
  {
   "cell_type": "code",
   "execution_count": 66,
   "metadata": {
    "slideshow": {
     "slide_type": "fragment"
    }
   },
   "outputs": [
    {
     "data": {
      "text/plain": [
       "array([[   0,    2,    6,   12,   20,   30,   42,   56,   72],\n",
       "       [   2,   12,   30,   56,   90,  132,  182,  240,  306],\n",
       "       [   6,   30,   72,  132,  210,  306,  420,  552,  702],\n",
       "       [  12,   56,  132,  240,  380,  552,  756,  992, 1260],\n",
       "       [  20,   90,  210,  380,  600,  870, 1190, 1560, 1980],\n",
       "       [  30,  132,  306,  552,  870, 1260, 1722, 2256, 2862],\n",
       "       [  42,  182,  420,  756, 1190, 1722, 2352, 3080, 3906],\n",
       "       [  56,  240,  552,  992, 1560, 2256, 3080, 4032, 5112],\n",
       "       [  72,  306,  702, 1260, 1980, 2862, 3906, 5112, 6480]])"
      ]
     },
     "execution_count": 66,
     "metadata": {},
     "output_type": "execute_result"
    }
   ],
   "source": [
    "M*M - M"
   ]
  },
  {
   "cell_type": "markdown",
   "metadata": {
    "slideshow": {
     "slide_type": "subslide"
    }
   },
   "source": [
    "### condiciones sobre los datos "
   ]
  },
  {
   "cell_type": "code",
   "execution_count": 68,
   "metadata": {
    "run_control": {
     "marked": false
    },
    "slideshow": {
     "slide_type": "fragment"
    }
   },
   "outputs": [
    {
     "data": {
      "text/plain": [
       "array([ 1,  2,  3,  4,  5,  6,  7,  8,  9,  2,  4,  6,  8, 10, 12, 14, 16,\n",
       "       18,  3,  6,  9, 12, 15, 18, 21, 24, 27,  4,  8, 12, 16, 20, 24, 28,\n",
       "       32, 36,  5, 10, 15, 20, 25, 30, 35, 40, 45,  6, 12, 18, 24, 30, 36,\n",
       "       42, 48, 54,  7, 14, 21, 28, 35, 42, 49, 56, 63,  8, 16, 24, 32, 40,\n",
       "       48, 56, 64, 72,  9, 18, 27, 36, 45, 54, 63, 72, 81])"
      ]
     },
     "execution_count": 68,
     "metadata": {},
     "output_type": "execute_result"
    }
   ],
   "source": [
    "Mlist = np.ravel(M)\n",
    "Mlist"
   ]
  },
  {
   "cell_type": "code",
   "execution_count": 69,
   "metadata": {
    "slideshow": {
     "slide_type": "fragment"
    }
   },
   "outputs": [
    {
     "data": {
      "text/plain": [
       "array([False, False, False, False, False, False, False, False, False,\n",
       "       False, False, False, False, False,  True,  True,  True,  True,\n",
       "       False, False, False,  True,  True,  True,  True,  True,  True,\n",
       "       False, False,  True,  True,  True,  True,  True,  True,  True,\n",
       "       False, False,  True,  True,  True,  True,  True,  True,  True,\n",
       "       False,  True,  True,  True,  True,  True,  True,  True,  True,\n",
       "       False,  True,  True,  True,  True,  True,  True,  True,  True,\n",
       "       False,  True,  True,  True,  True,  True,  True,  True,  True,\n",
       "       False,  True,  True,  True,  True,  True,  True,  True,  True])"
      ]
     },
     "execution_count": 69,
     "metadata": {},
     "output_type": "execute_result"
    }
   ],
   "source": [
    "Mlist>10"
   ]
  },
  {
   "cell_type": "code",
   "execution_count": 70,
   "metadata": {
    "slideshow": {
     "slide_type": "fragment"
    }
   },
   "outputs": [
    {
     "data": {
      "text/plain": [
       "array([12, 14, 16, 18, 12, 15, 18, 21, 24, 27, 12, 16, 20, 24, 28, 32, 36,\n",
       "       15, 20, 25, 30, 35, 40, 45, 12, 18, 24, 30, 36, 42, 48, 54, 14, 21,\n",
       "       28, 35, 42, 49, 56, 63, 16, 24, 32, 40, 48, 56, 64, 72, 18, 27, 36,\n",
       "       45, 54, 63, 72, 81])"
      ]
     },
     "execution_count": 70,
     "metadata": {},
     "output_type": "execute_result"
    }
   ],
   "source": [
    "Mlist[Mlist>10]"
   ]
  },
  {
   "cell_type": "markdown",
   "metadata": {
    "slideshow": {
     "slide_type": "slide"
    }
   },
   "source": [
    "## Pandas \n",
    "Por convención este paquete se importa de la siguiente manera"
   ]
  },
  {
   "cell_type": "code",
   "execution_count": 26,
   "metadata": {
    "slideshow": {
     "slide_type": "fragment"
    }
   },
   "outputs": [],
   "source": [
    "import pandas as pd"
   ]
  },
  {
   "cell_type": "code",
   "execution_count": 27,
   "metadata": {
    "slideshow": {
     "slide_type": "fragment"
    }
   },
   "outputs": [
    {
     "data": {
      "text/plain": [
       "array([[ 1,  2,  3,  4,  5,  6,  7,  8,  9],\n",
       "       [ 2,  4,  6,  8, 10, 12, 14, 16, 18],\n",
       "       [ 3,  6,  9, 12, 15, 18, 21, 24, 27],\n",
       "       [ 4,  8, 12, 16, 20, 24, 28, 32, 36],\n",
       "       [ 5, 10, 15, 20, 25, 30, 35, 40, 45],\n",
       "       [ 6, 12, 18, 24, 30, 36, 42, 48, 54],\n",
       "       [ 7, 14, 21, 28, 35, 42, 49, 56, 63],\n",
       "       [ 8, 16, 24, 32, 40, 48, 56, 64, 72],\n",
       "       [ 9, 18, 27, 36, 45, 54, 63, 72, 81]])"
      ]
     },
     "execution_count": 27,
     "metadata": {},
     "output_type": "execute_result"
    }
   ],
   "source": [
    "M"
   ]
  },
  {
   "cell_type": "markdown",
   "metadata": {
    "slideshow": {
     "slide_type": "subslide"
    }
   },
   "source": [
    "### Dataframe en pandas"
   ]
  },
  {
   "cell_type": "code",
   "execution_count": 74,
   "metadata": {
    "slideshow": {
     "slide_type": "fragment"
    }
   },
   "outputs": [
    {
     "data": {
      "text/html": [
       "<div>\n",
       "<style scoped>\n",
       "    .dataframe tbody tr th:only-of-type {\n",
       "        vertical-align: middle;\n",
       "    }\n",
       "\n",
       "    .dataframe tbody tr th {\n",
       "        vertical-align: top;\n",
       "    }\n",
       "\n",
       "    .dataframe thead th {\n",
       "        text-align: right;\n",
       "    }\n",
       "</style>\n",
       "<table border=\"1\" class=\"dataframe\">\n",
       "  <thead>\n",
       "    <tr style=\"text-align: right;\">\n",
       "      <th></th>\n",
       "      <th>0</th>\n",
       "      <th>1</th>\n",
       "      <th>2</th>\n",
       "      <th>3</th>\n",
       "      <th>4</th>\n",
       "      <th>5</th>\n",
       "      <th>6</th>\n",
       "      <th>7</th>\n",
       "      <th>8</th>\n",
       "    </tr>\n",
       "  </thead>\n",
       "  <tbody>\n",
       "    <tr>\n",
       "      <th>0</th>\n",
       "      <td>1</td>\n",
       "      <td>2</td>\n",
       "      <td>3</td>\n",
       "      <td>4</td>\n",
       "      <td>5</td>\n",
       "      <td>6</td>\n",
       "      <td>7</td>\n",
       "      <td>8</td>\n",
       "      <td>9</td>\n",
       "    </tr>\n",
       "    <tr>\n",
       "      <th>1</th>\n",
       "      <td>2</td>\n",
       "      <td>4</td>\n",
       "      <td>6</td>\n",
       "      <td>8</td>\n",
       "      <td>10</td>\n",
       "      <td>12</td>\n",
       "      <td>14</td>\n",
       "      <td>16</td>\n",
       "      <td>18</td>\n",
       "    </tr>\n",
       "    <tr>\n",
       "      <th>2</th>\n",
       "      <td>3</td>\n",
       "      <td>6</td>\n",
       "      <td>9</td>\n",
       "      <td>12</td>\n",
       "      <td>15</td>\n",
       "      <td>18</td>\n",
       "      <td>21</td>\n",
       "      <td>24</td>\n",
       "      <td>27</td>\n",
       "    </tr>\n",
       "    <tr>\n",
       "      <th>3</th>\n",
       "      <td>4</td>\n",
       "      <td>8</td>\n",
       "      <td>12</td>\n",
       "      <td>16</td>\n",
       "      <td>20</td>\n",
       "      <td>24</td>\n",
       "      <td>28</td>\n",
       "      <td>32</td>\n",
       "      <td>36</td>\n",
       "    </tr>\n",
       "    <tr>\n",
       "      <th>4</th>\n",
       "      <td>5</td>\n",
       "      <td>10</td>\n",
       "      <td>15</td>\n",
       "      <td>20</td>\n",
       "      <td>25</td>\n",
       "      <td>30</td>\n",
       "      <td>35</td>\n",
       "      <td>40</td>\n",
       "      <td>45</td>\n",
       "    </tr>\n",
       "    <tr>\n",
       "      <th>5</th>\n",
       "      <td>6</td>\n",
       "      <td>12</td>\n",
       "      <td>18</td>\n",
       "      <td>24</td>\n",
       "      <td>30</td>\n",
       "      <td>36</td>\n",
       "      <td>42</td>\n",
       "      <td>48</td>\n",
       "      <td>54</td>\n",
       "    </tr>\n",
       "    <tr>\n",
       "      <th>6</th>\n",
       "      <td>7</td>\n",
       "      <td>14</td>\n",
       "      <td>21</td>\n",
       "      <td>28</td>\n",
       "      <td>35</td>\n",
       "      <td>42</td>\n",
       "      <td>49</td>\n",
       "      <td>56</td>\n",
       "      <td>63</td>\n",
       "    </tr>\n",
       "    <tr>\n",
       "      <th>7</th>\n",
       "      <td>8</td>\n",
       "      <td>16</td>\n",
       "      <td>24</td>\n",
       "      <td>32</td>\n",
       "      <td>40</td>\n",
       "      <td>48</td>\n",
       "      <td>56</td>\n",
       "      <td>64</td>\n",
       "      <td>72</td>\n",
       "    </tr>\n",
       "    <tr>\n",
       "      <th>8</th>\n",
       "      <td>9</td>\n",
       "      <td>18</td>\n",
       "      <td>27</td>\n",
       "      <td>36</td>\n",
       "      <td>45</td>\n",
       "      <td>54</td>\n",
       "      <td>63</td>\n",
       "      <td>72</td>\n",
       "      <td>81</td>\n",
       "    </tr>\n",
       "  </tbody>\n",
       "</table>\n",
       "</div>"
      ],
      "text/plain": [
       "   0   1   2   3   4   5   6   7   8\n",
       "0  1   2   3   4   5   6   7   8   9\n",
       "1  2   4   6   8  10  12  14  16  18\n",
       "2  3   6   9  12  15  18  21  24  27\n",
       "3  4   8  12  16  20  24  28  32  36\n",
       "4  5  10  15  20  25  30  35  40  45\n",
       "5  6  12  18  24  30  36  42  48  54\n",
       "6  7  14  21  28  35  42  49  56  63\n",
       "7  8  16  24  32  40  48  56  64  72\n",
       "8  9  18  27  36  45  54  63  72  81"
      ]
     },
     "execution_count": 74,
     "metadata": {},
     "output_type": "execute_result"
    }
   ],
   "source": [
    "tabla = pd.DataFrame(M)\n",
    "tabla"
   ]
  },
  {
   "cell_type": "code",
   "execution_count": 77,
   "metadata": {
    "slideshow": {
     "slide_type": "fragment"
    }
   },
   "outputs": [
    {
     "data": {
      "text/html": [
       "<div>\n",
       "<style scoped>\n",
       "    .dataframe tbody tr th:only-of-type {\n",
       "        vertical-align: middle;\n",
       "    }\n",
       "\n",
       "    .dataframe tbody tr th {\n",
       "        vertical-align: top;\n",
       "    }\n",
       "\n",
       "    .dataframe thead th {\n",
       "        text-align: right;\n",
       "    }\n",
       "</style>\n",
       "<table border=\"1\" class=\"dataframe\">\n",
       "  <thead>\n",
       "    <tr style=\"text-align: right;\">\n",
       "      <th></th>\n",
       "      <th>uno</th>\n",
       "      <th>dos</th>\n",
       "      <th>tres</th>\n",
       "      <th>cuatro</th>\n",
       "      <th>cinco</th>\n",
       "      <th>seis</th>\n",
       "      <th>siete</th>\n",
       "      <th>ocho</th>\n",
       "      <th>nueve</th>\n",
       "    </tr>\n",
       "  </thead>\n",
       "  <tbody>\n",
       "    <tr>\n",
       "      <th>uno</th>\n",
       "      <td>1</td>\n",
       "      <td>2</td>\n",
       "      <td>3</td>\n",
       "      <td>4</td>\n",
       "      <td>5</td>\n",
       "      <td>6</td>\n",
       "      <td>7</td>\n",
       "      <td>8</td>\n",
       "      <td>9</td>\n",
       "    </tr>\n",
       "    <tr>\n",
       "      <th>dos</th>\n",
       "      <td>2</td>\n",
       "      <td>4</td>\n",
       "      <td>6</td>\n",
       "      <td>8</td>\n",
       "      <td>10</td>\n",
       "      <td>12</td>\n",
       "      <td>14</td>\n",
       "      <td>16</td>\n",
       "      <td>18</td>\n",
       "    </tr>\n",
       "    <tr>\n",
       "      <th>tres</th>\n",
       "      <td>3</td>\n",
       "      <td>6</td>\n",
       "      <td>9</td>\n",
       "      <td>12</td>\n",
       "      <td>15</td>\n",
       "      <td>18</td>\n",
       "      <td>21</td>\n",
       "      <td>24</td>\n",
       "      <td>27</td>\n",
       "    </tr>\n",
       "    <tr>\n",
       "      <th>cuatro</th>\n",
       "      <td>4</td>\n",
       "      <td>8</td>\n",
       "      <td>12</td>\n",
       "      <td>16</td>\n",
       "      <td>20</td>\n",
       "      <td>24</td>\n",
       "      <td>28</td>\n",
       "      <td>32</td>\n",
       "      <td>36</td>\n",
       "    </tr>\n",
       "    <tr>\n",
       "      <th>cinco</th>\n",
       "      <td>5</td>\n",
       "      <td>10</td>\n",
       "      <td>15</td>\n",
       "      <td>20</td>\n",
       "      <td>25</td>\n",
       "      <td>30</td>\n",
       "      <td>35</td>\n",
       "      <td>40</td>\n",
       "      <td>45</td>\n",
       "    </tr>\n",
       "    <tr>\n",
       "      <th>seis</th>\n",
       "      <td>6</td>\n",
       "      <td>12</td>\n",
       "      <td>18</td>\n",
       "      <td>24</td>\n",
       "      <td>30</td>\n",
       "      <td>36</td>\n",
       "      <td>42</td>\n",
       "      <td>48</td>\n",
       "      <td>54</td>\n",
       "    </tr>\n",
       "    <tr>\n",
       "      <th>siete</th>\n",
       "      <td>7</td>\n",
       "      <td>14</td>\n",
       "      <td>21</td>\n",
       "      <td>28</td>\n",
       "      <td>35</td>\n",
       "      <td>42</td>\n",
       "      <td>49</td>\n",
       "      <td>56</td>\n",
       "      <td>63</td>\n",
       "    </tr>\n",
       "    <tr>\n",
       "      <th>ocho</th>\n",
       "      <td>8</td>\n",
       "      <td>16</td>\n",
       "      <td>24</td>\n",
       "      <td>32</td>\n",
       "      <td>40</td>\n",
       "      <td>48</td>\n",
       "      <td>56</td>\n",
       "      <td>64</td>\n",
       "      <td>72</td>\n",
       "    </tr>\n",
       "    <tr>\n",
       "      <th>nueve</th>\n",
       "      <td>9</td>\n",
       "      <td>18</td>\n",
       "      <td>27</td>\n",
       "      <td>36</td>\n",
       "      <td>45</td>\n",
       "      <td>54</td>\n",
       "      <td>63</td>\n",
       "      <td>72</td>\n",
       "      <td>81</td>\n",
       "    </tr>\n",
       "  </tbody>\n",
       "</table>\n",
       "</div>"
      ],
      "text/plain": [
       "        uno  dos  tres  cuatro  cinco  seis  siete  ocho  nueve\n",
       "uno       1    2     3       4      5     6      7     8      9\n",
       "dos       2    4     6       8     10    12     14    16     18\n",
       "tres      3    6     9      12     15    18     21    24     27\n",
       "cuatro    4    8    12      16     20    24     28    32     36\n",
       "cinco     5   10    15      20     25    30     35    40     45\n",
       "seis      6   12    18      24     30    36     42    48     54\n",
       "siete     7   14    21      28     35    42     49    56     63\n",
       "ocho      8   16    24      32     40    48     56    64     72\n",
       "nueve     9   18    27      36     45    54     63    72     81"
      ]
     },
     "execution_count": 77,
     "metadata": {},
     "output_type": "execute_result"
    }
   ],
   "source": [
    "tabla = pd.DataFrame(M,columns=['uno','dos','tres','cuatro','cinco','seis','siete','ocho','nueve'],\n",
    "                     index=['uno','dos','tres','cuatro','cinco','seis','siete','ocho','nueve'])\n",
    "tabla"
   ]
  },
  {
   "cell_type": "markdown",
   "metadata": {
    "slideshow": {
     "slide_type": "subslide"
    }
   },
   "source": [
    "### Manipulando una columna"
   ]
  },
  {
   "cell_type": "code",
   "execution_count": 78,
   "metadata": {
    "slideshow": {
     "slide_type": "fragment"
    }
   },
   "outputs": [
    {
     "data": {
      "text/plain": [
       "uno        9\n",
       "dos       18\n",
       "tres      27\n",
       "cuatro    36\n",
       "cinco     45\n",
       "seis      54\n",
       "siete     63\n",
       "ocho      72\n",
       "nueve     81\n",
       "Name: nueve, dtype: int64"
      ]
     },
     "execution_count": 78,
     "metadata": {},
     "output_type": "execute_result"
    }
   ],
   "source": [
    "tabla['nueve']"
   ]
  },
  {
   "cell_type": "code",
   "execution_count": 79,
   "metadata": {
    "slideshow": {
     "slide_type": "fragment"
    }
   },
   "outputs": [
    {
     "data": {
      "text/plain": [
       "uno       False\n",
       "dos       False\n",
       "tres       True\n",
       "cuatro     True\n",
       "cinco      True\n",
       "seis       True\n",
       "siete      True\n",
       "ocho       True\n",
       "nueve      True\n",
       "Name: nueve, dtype: bool"
      ]
     },
     "execution_count": 79,
     "metadata": {},
     "output_type": "execute_result"
    }
   ],
   "source": [
    "tabla['nueve']>20"
   ]
  },
  {
   "cell_type": "code",
   "execution_count": 80,
   "metadata": {
    "slideshow": {
     "slide_type": "fragment"
    }
   },
   "outputs": [
    {
     "data": {
      "text/plain": [
       "tres      27\n",
       "cuatro    36\n",
       "cinco     45\n",
       "seis      54\n",
       "siete     63\n",
       "ocho      72\n",
       "nueve     81\n",
       "Name: nueve, dtype: int64"
      ]
     },
     "execution_count": 80,
     "metadata": {},
     "output_type": "execute_result"
    }
   ],
   "source": [
    "tabla['nueve'][tabla['nueve']>20]"
   ]
  },
  {
   "cell_type": "markdown",
   "metadata": {
    "slideshow": {
     "slide_type": "slide"
    }
   },
   "source": [
    "## Agregando simbólos a pandas"
   ]
  },
  {
   "cell_type": "code",
   "execution_count": 51,
   "metadata": {
    "slideshow": {
     "slide_type": "fragment"
    }
   },
   "outputs": [
    {
     "data": {
      "image/png": "[encoded data removed]",
      "text/latex": [
       "$$\\left [ \\left [ {α^+}^{2}, \\quad {α^+} {α^-}, \\quad {α^+} {α^0}\\right ], \\quad \\left [ {α^+} {α^-}, \\quad {α^-}^{2}, \\quad {α^-} {α^0}\\right ], \\quad \\left [ {α^+} {α^0}, \\quad {α^-} {α^0}, \\quad {α^0}^{2}\\right ]\\right ]$$"
      ],
      "text/plain": [
       "⎡⎡      2                              ⎤  ⎡                     2             \n",
       "⎣⎣{α__+} , {α__+}⋅{α__-}, {α__+}⋅{α__0}⎦, ⎣{α__+}⋅{α__-}, {α__-} , {α__-}⋅{α__\n",
       "\n",
       "  ⎤  ⎡                                    2⎤⎤\n",
       "0}⎦, ⎣{α__+}⋅{α__0}, {α__-}⋅{α__0}, {α__0} ⎦⎦"
      ]
     },
     "execution_count": 51,
     "metadata": {},
     "output_type": "execute_result"
    }
   ],
   "source": [
    "from sympy import *\n",
    "init_printing()\n",
    "\n",
    "α = {i:symbols(r'{{α^{a}}}'.format(a=i)) for i in ['+','-',0]}\n",
    "lista = dict.values(α)\n",
    "m =[[i*j for i in lista] for j in lista]\n",
    "m"
   ]
  },
  {
   "cell_type": "code",
   "execution_count": 52,
   "metadata": {
    "slideshow": {
     "slide_type": "fragment"
    }
   },
   "outputs": [
    {
     "data": {
      "text/html": [
       "<div>\n",
       "<style scoped>\n",
       "    .dataframe tbody tr th:only-of-type {\n",
       "        vertical-align: middle;\n",
       "    }\n",
       "\n",
       "    .dataframe tbody tr th {\n",
       "        vertical-align: top;\n",
       "    }\n",
       "\n",
       "    .dataframe thead th {\n",
       "        text-align: right;\n",
       "    }\n",
       "</style>\n",
       "<table border=\"1\" class=\"dataframe\">\n",
       "  <thead>\n",
       "    <tr style=\"text-align: right;\">\n",
       "      <th></th>\n",
       "      <th>0</th>\n",
       "      <th>1</th>\n",
       "      <th>2</th>\n",
       "    </tr>\n",
       "  </thead>\n",
       "  <tbody>\n",
       "    <tr>\n",
       "      <th>0</th>\n",
       "      <td>{α^+}**2</td>\n",
       "      <td>{α^+}*{α^-}</td>\n",
       "      <td>{α^+}*{α^0}</td>\n",
       "    </tr>\n",
       "    <tr>\n",
       "      <th>1</th>\n",
       "      <td>{α^+}*{α^-}</td>\n",
       "      <td>{α^-}**2</td>\n",
       "      <td>{α^-}*{α^0}</td>\n",
       "    </tr>\n",
       "    <tr>\n",
       "      <th>2</th>\n",
       "      <td>{α^+}*{α^0}</td>\n",
       "      <td>{α^-}*{α^0}</td>\n",
       "      <td>{α^0}**2</td>\n",
       "    </tr>\n",
       "  </tbody>\n",
       "</table>\n",
       "</div>"
      ],
      "text/plain": [
       "             0            1            2\n",
       "0     {α^+}**2  {α^+}*{α^-}  {α^+}*{α^0}\n",
       "1  {α^+}*{α^-}     {α^-}**2  {α^-}*{α^0}\n",
       "2  {α^+}*{α^0}  {α^-}*{α^0}     {α^0}**2"
      ]
     },
     "execution_count": 52,
     "metadata": {},
     "output_type": "execute_result"
    }
   ],
   "source": [
    "tabla = pd.DataFrame(m)\n",
    "tabla"
   ]
  },
  {
   "cell_type": "markdown",
   "metadata": {
    "slideshow": {
     "slide_type": "subslide"
    }
   },
   "source": [
    "### Resolviendo los problemas"
   ]
  },
  {
   "cell_type": "code",
   "execution_count": 43,
   "metadata": {
    "slideshow": {
     "slide_type": "fragment"
    }
   },
   "outputs": [],
   "source": [
    "def latexificar(expr):\n",
    "    if isinstance(expr,list):\n",
    "        return np.reshape(list(map(lambda tc: '$'+latex(tc)+'$',np.ravel(expr))),np.shape(expr))\n",
    "    else:\n",
    "        return '$'+latex(expr)+'$'"
   ]
  },
  {
   "cell_type": "code",
   "execution_count": 45,
   "metadata": {
    "slideshow": {
     "slide_type": "fragment"
    }
   },
   "outputs": [
    {
     "data": {
      "text/html": [
       "<div>\n",
       "<style scoped>\n",
       "    .dataframe tbody tr th:only-of-type {\n",
       "        vertical-align: middle;\n",
       "    }\n",
       "\n",
       "    .dataframe tbody tr th {\n",
       "        vertical-align: top;\n",
       "    }\n",
       "\n",
       "    .dataframe thead th {\n",
       "        text-align: right;\n",
       "    }\n",
       "</style>\n",
       "<table border=\"1\" class=\"dataframe\">\n",
       "  <thead>\n",
       "    <tr style=\"text-align: right;\">\n",
       "      <th></th>\n",
       "      <th>0</th>\n",
       "      <th>1</th>\n",
       "      <th>2</th>\n",
       "    </tr>\n",
       "  </thead>\n",
       "  <tbody>\n",
       "    <tr>\n",
       "      <th>0</th>\n",
       "      <td>$α^{2}$</td>\n",
       "      <td>$α β$</td>\n",
       "      <td>$α γ$</td>\n",
       "    </tr>\n",
       "    <tr>\n",
       "      <th>1</th>\n",
       "      <td>$α β$</td>\n",
       "      <td>$β^{2}$</td>\n",
       "      <td>$β γ$</td>\n",
       "    </tr>\n",
       "    <tr>\n",
       "      <th>2</th>\n",
       "      <td>$α γ$</td>\n",
       "      <td>$β γ$</td>\n",
       "      <td>$γ^{2}$</td>\n",
       "    </tr>\n",
       "  </tbody>\n",
       "</table>\n",
       "</div>"
      ],
      "text/plain": [
       "         0        1        2\n",
       "0  $α^{2}$    $α β$    $α γ$\n",
       "1    $α β$  $β^{2}$    $β γ$\n",
       "2    $α γ$    $β γ$  $γ^{2}$"
      ]
     },
     "execution_count": 45,
     "metadata": {},
     "output_type": "execute_result"
    }
   ],
   "source": [
    "tabla = pd.DataFrame(latexificar(m))\n",
    "tabla"
   ]
  },
  {
   "cell_type": "code",
   "execution_count": 50,
   "metadata": {
    "slideshow": {
     "slide_type": "fragment"
    }
   },
   "outputs": [
    {
     "data": {
      "text/html": [
       "<style  type=\"text/css\" >\n",
       "    #T_db4c638c_2ecf_11e8_8443_c8ff289e102erow0_col0 {\n",
       "            width:  50px;\n",
       "        }    #T_db4c638c_2ecf_11e8_8443_c8ff289e102erow0_col1 {\n",
       "            width:  50px;\n",
       "        }    #T_db4c638c_2ecf_11e8_8443_c8ff289e102erow0_col2 {\n",
       "            width:  50px;\n",
       "        }    #T_db4c638c_2ecf_11e8_8443_c8ff289e102erow1_col0 {\n",
       "            width:  50px;\n",
       "        }    #T_db4c638c_2ecf_11e8_8443_c8ff289e102erow1_col1 {\n",
       "            width:  50px;\n",
       "        }    #T_db4c638c_2ecf_11e8_8443_c8ff289e102erow1_col2 {\n",
       "            width:  50px;\n",
       "        }    #T_db4c638c_2ecf_11e8_8443_c8ff289e102erow2_col0 {\n",
       "            width:  50px;\n",
       "        }    #T_db4c638c_2ecf_11e8_8443_c8ff289e102erow2_col1 {\n",
       "            width:  50px;\n",
       "        }    #T_db4c638c_2ecf_11e8_8443_c8ff289e102erow2_col2 {\n",
       "            width:  50px;\n",
       "        }</style>  \n",
       "<table id=\"T_db4c638c_2ecf_11e8_8443_c8ff289e102e\" > \n",
       "<thead>    <tr> \n",
       "        <th class=\"blank level0\" ></th> \n",
       "        <th class=\"col_heading level0 col0\" >0</th> \n",
       "        <th class=\"col_heading level0 col1\" >1</th> \n",
       "        <th class=\"col_heading level0 col2\" >2</th> \n",
       "    </tr></thead> \n",
       "<tbody>    <tr> \n",
       "        <th id=\"T_db4c638c_2ecf_11e8_8443_c8ff289e102elevel0_row0\" class=\"row_heading level0 row0\" >0</th> \n",
       "        <td id=\"T_db4c638c_2ecf_11e8_8443_c8ff289e102erow0_col0\" class=\"data row0 col0\" >$α^{2}$</td> \n",
       "        <td id=\"T_db4c638c_2ecf_11e8_8443_c8ff289e102erow0_col1\" class=\"data row0 col1\" >$α β$</td> \n",
       "        <td id=\"T_db4c638c_2ecf_11e8_8443_c8ff289e102erow0_col2\" class=\"data row0 col2\" >$α γ$</td> \n",
       "    </tr>    <tr> \n",
       "        <th id=\"T_db4c638c_2ecf_11e8_8443_c8ff289e102elevel0_row1\" class=\"row_heading level0 row1\" >1</th> \n",
       "        <td id=\"T_db4c638c_2ecf_11e8_8443_c8ff289e102erow1_col0\" class=\"data row1 col0\" >$α β$</td> \n",
       "        <td id=\"T_db4c638c_2ecf_11e8_8443_c8ff289e102erow1_col1\" class=\"data row1 col1\" >$β^{2}$</td> \n",
       "        <td id=\"T_db4c638c_2ecf_11e8_8443_c8ff289e102erow1_col2\" class=\"data row1 col2\" >$β γ$</td> \n",
       "    </tr>    <tr> \n",
       "        <th id=\"T_db4c638c_2ecf_11e8_8443_c8ff289e102elevel0_row2\" class=\"row_heading level0 row2\" >2</th> \n",
       "        <td id=\"T_db4c638c_2ecf_11e8_8443_c8ff289e102erow2_col0\" class=\"data row2 col0\" >$α γ$</td> \n",
       "        <td id=\"T_db4c638c_2ecf_11e8_8443_c8ff289e102erow2_col1\" class=\"data row2 col1\" >$β γ$</td> \n",
       "        <td id=\"T_db4c638c_2ecf_11e8_8443_c8ff289e102erow2_col2\" class=\"data row2 col2\" >$γ^{2}$</td> \n",
       "    </tr></tbody> \n",
       "</table> "
      ],
      "text/plain": [
       "<pandas.io.formats.style.Styler at 0x7f500e26cef0>"
      ]
     },
     "execution_count": 50,
     "metadata": {},
     "output_type": "execute_result"
    }
   ],
   "source": [
    "tabla.style.set_properties(subset=[0,1,2], \n",
    "                        **{'width': '50px'})"
   ]
  }
 ],
 "metadata": {
  "celltoolbar": "Slideshow",
  "kernelspec": {
   "display_name": "Python [conda env:ipykernel_py3]",
   "language": "python",
   "name": "conda-env-ipykernel_py3-py"
  },
  "language_info": {
   "codemirror_mode": {
    "name": "ipython",
    "version": 3
   },
   "file_extension": ".py",
   "mimetype": "text/x-python",
   "name": "python",
   "nbconvert_exporter": "python",
   "pygments_lexer": "ipython3",
   "version": "3.6.4"
  },
  "latex_envs": {
   "LaTeX_envs_menu_present": true,
   "autoclose": false,
   "autocomplete": true,
   "bibliofile": "biblio.bib",
   "cite_by": "apalike",
   "current_citInitial": 1,
   "eqLabelWithNumbers": true,
   "eqNumInitial": 1,
   "hotkeys": {
    "equation": "Ctrl-E",
    "itemize": "Ctrl-I"
   },
   "labels_anchors": false,
   "latex_user_defs": false,
   "report_style_numbering": false,
   "user_envs_cfg": false
  },
  "toc": {
   "nav_menu": {},
   "number_sections": true,
   "sideBar": true,
   "skip_h1_title": false,
   "toc_cell": false,
   "toc_position": {},
   "toc_section_display": "block",
   "toc_window_display": false
  }
 },
 "nbformat": 4,
 "nbformat_minor": 2
}
